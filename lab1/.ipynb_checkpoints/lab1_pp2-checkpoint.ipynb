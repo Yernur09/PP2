{
 "cells": [
  {
   "cell_type": "markdown",
   "id": "e92ee59c-6b74-4337-be7e-4c184192b2ad",
   "metadata": {},
   "source": [
    "Python HOME"
   ]
  },
  {
   "cell_type": "code",
   "execution_count": 7,
   "id": "3f0cef76-c36e-411b-9bd2-8f4dfee65f5c",
   "metadata": {},
   "outputs": [
    {
     "name": "stdout",
     "output_type": "stream",
     "text": [
      "Hello World\n"
     ]
    }
   ],
   "source": [
    "print(\"Hello World\")"
   ]
  },
  {
   "cell_type": "markdown",
   "id": "22de7103-604e-4af7-a4f7-9fe024fa015a",
   "metadata": {},
   "source": [
    "Python Syntax"
   ]
  },
  {
   "cell_type": "code",
   "execution_count": 15,
   "id": "496b7828-7678-4e25-bac0-ad288e396d2c",
   "metadata": {},
   "outputs": [
    {
     "name": "stdout",
     "output_type": "stream",
     "text": [
      "Five is greater than two!\n"
     ]
    }
   ],
   "source": [
    "if 5 > 2:\n",
    "  print(\"Five is greater than two!\")"
   ]
  },
  {
   "cell_type": "code",
   "execution_count": 17,
   "id": "f8a49635-f7de-414a-8a3a-20e5f7eb89f4",
   "metadata": {},
   "outputs": [
    {
     "name": "stdout",
     "output_type": "stream",
     "text": [
      "Five is greater than two!\n",
      "Five is greater than two!\n"
     ]
    }
   ],
   "source": [
    "if 5 > 2:\n",
    " print(\"Five is greater than two!\") \n",
    "if 5 > 2:\n",
    "        print(\"Five is greater than two!\") "
   ]
  },
  {
   "cell_type": "code",
   "execution_count": 23,
   "id": "17f2f9cd-5cfd-4724-8eb4-2d4c0eebeb29",
   "metadata": {},
   "outputs": [],
   "source": [
    "x = 5\n",
    "y = \"Hello, World!\""
   ]
  },
  {
   "cell_type": "markdown",
   "id": "51851be0-780e-41d9-a3b6-3b592a32b352",
   "metadata": {},
   "source": [
    "Python Comments"
   ]
  },
  {
   "cell_type": "code",
   "execution_count": 26,
   "id": "a449e9aa-3839-4b43-bcbd-f27d31c7c55d",
   "metadata": {},
   "outputs": [
    {
     "name": "stdout",
     "output_type": "stream",
     "text": [
      "Hello, World!\n"
     ]
    }
   ],
   "source": [
    "#This is a comment.\n",
    "print(\"Hello, World!\")"
   ]
  },
  {
   "cell_type": "code",
   "execution_count": 28,
   "id": "b540ee06-4667-4baf-9176-5de16eeeebb3",
   "metadata": {},
   "outputs": [
    {
     "name": "stdout",
     "output_type": "stream",
     "text": [
      "Hello, World!\n"
     ]
    }
   ],
   "source": [
    "print(\"Hello, World!\") #This is a comment"
   ]
  },
  {
   "cell_type": "code",
   "execution_count": 30,
   "id": "06f4bb91-8c9f-4400-95c3-397030b0cd4d",
   "metadata": {},
   "outputs": [
    {
     "name": "stdout",
     "output_type": "stream",
     "text": [
      "Cheers, Mate!\n"
     ]
    }
   ],
   "source": [
    "#print(\"Hello, World!\")\n",
    "print(\"Cheers, Mate!\")"
   ]
  },
  {
   "cell_type": "code",
   "execution_count": 32,
   "id": "24927460-cfa9-4f58-9be1-6459b3472587",
   "metadata": {},
   "outputs": [
    {
     "name": "stdout",
     "output_type": "stream",
     "text": [
      "Hello, World!\n"
     ]
    }
   ],
   "source": [
    "#This is a comment\n",
    "#written in\n",
    "#more than just one line\n",
    "print(\"Hello, World!\")"
   ]
  },
  {
   "cell_type": "code",
   "execution_count": 34,
   "id": "a6debb71-7783-4972-b496-60b33ff1dbd3",
   "metadata": {},
   "outputs": [
    {
     "name": "stdout",
     "output_type": "stream",
     "text": [
      "Hello, World!\n"
     ]
    }
   ],
   "source": [
    "\"\"\"\n",
    "This is a comment\n",
    "written in\n",
    "more than just one line\n",
    "\"\"\"\n",
    "print(\"Hello, World!\")\n"
   ]
  },
  {
   "cell_type": "markdown",
   "id": "4368fc02-e58e-40dc-9705-0e610aae1b92",
   "metadata": {},
   "source": [
    "Python Variables"
   ]
  },
  {
   "cell_type": "code",
   "execution_count": 37,
   "id": "7a37324b-1b9d-42fc-ab5c-999b8520e017",
   "metadata": {},
   "outputs": [
    {
     "name": "stdout",
     "output_type": "stream",
     "text": [
      "5\n",
      "John\n"
     ]
    }
   ],
   "source": [
    "x = 5\n",
    "y = \"John\"\n",
    "print(x)\n",
    "print(y)"
   ]
  },
  {
   "cell_type": "code",
   "execution_count": 39,
   "id": "ce2c0c7b-d4c6-4c10-9474-5365977ca165",
   "metadata": {},
   "outputs": [
    {
     "name": "stdout",
     "output_type": "stream",
     "text": [
      "Sally\n"
     ]
    }
   ],
   "source": [
    "x = 4       # x is of type int\n",
    "x = \"Sally\" # x is now of type str\n",
    "print(x)"
   ]
  },
  {
   "cell_type": "code",
   "execution_count": 41,
   "id": "db9a2f29-1742-4a46-84c3-4a939ee30745",
   "metadata": {},
   "outputs": [],
   "source": [
    "x = str(3)    # x will be '3'\n",
    "y = int(3)    # y will be 3\n",
    "z = float(3)  # z will be 3.0"
   ]
  },
  {
   "cell_type": "code",
   "execution_count": 43,
   "id": "96f34b85-8204-4703-bff4-8df3dd8140e9",
   "metadata": {},
   "outputs": [],
   "source": [
    "\n",
    "#Get the type"
   ]
  },
  {
   "cell_type": "code",
   "execution_count": 45,
   "id": "d76a3e84-b037-4fd2-b4ce-5aa66e713e30",
   "metadata": {},
   "outputs": [
    {
     "name": "stdout",
     "output_type": "stream",
     "text": [
      "<class 'int'>\n",
      "<class 'str'>\n"
     ]
    }
   ],
   "source": [
    "x = 5\n",
    "y = \"John\"\n",
    "print(type(x))\n",
    "print(type(y))"
   ]
  },
  {
   "cell_type": "code",
   "execution_count": 48,
   "id": "454f2266-dd32-473e-9f2a-701a619b3b2e",
   "metadata": {},
   "outputs": [],
   "source": [
    "\n",
    "#Single or Double Quotes?"
   ]
  },
  {
   "cell_type": "code",
   "execution_count": 52,
   "id": "1801a9a4-9458-49b5-adc8-d186b2bdb2bd",
   "metadata": {},
   "outputs": [],
   "source": [
    "x = \"John\"\n",
    "# is the same as\n",
    "x = 'John'"
   ]
  },
  {
   "cell_type": "code",
   "execution_count": 54,
   "id": "144e8e77-562a-4418-af2f-12e848cf87fe",
   "metadata": {},
   "outputs": [],
   "source": [
    "\n",
    "#Case-Sensitive"
   ]
  },
  {
   "cell_type": "code",
   "execution_count": 56,
   "id": "ec59e01c-f4e6-4f81-ac41-4c027ed78abb",
   "metadata": {},
   "outputs": [],
   "source": [
    "a = 4\n",
    "A = \"Sally\"\n",
    "#A will not overwrite a"
   ]
  },
  {
   "cell_type": "code",
   "execution_count": 75,
   "id": "9530239b-b965-47ed-9deb-73c44c0367b8",
   "metadata": {},
   "outputs": [],
   "source": [
    "\n",
    "#Python - Variable Names\n",
    "\n",
    "\"Legal variable names\"\n",
    "myvar = \"John\"\n",
    "my_var = \"John\"\n",
    "_my_var = \"John\"\n",
    "myVar = \"John\"\n",
    "MYVAR = \"John\"\n",
    "myvar2 = \"John\""
   ]
  },
  {
   "cell_type": "code",
   "execution_count": 77,
   "id": "ad403ad6-db3c-45d7-add3-91a3140bd878",
   "metadata": {},
   "outputs": [
    {
     "name": "stdout",
     "output_type": "stream",
     "text": [
      "Orange\n",
      "Banana\n",
      "Cherry\n",
      "Orange\n",
      "Orange\n",
      "Orange\n"
     ]
    }
   ],
   "source": [
    "\n",
    "#Python Variables - Assign Multiple Values\n",
    "x, y, z = \"Orange\", \"Banana\", \"Cherry\"\n",
    "print(x)\n",
    "print(y)\n",
    "print(z)\n",
    "\n",
    "x = y = z = \"Orange\"\n",
    "print(x)\n",
    "print(y)\n",
    "print(z)\n"
   ]
  },
  {
   "cell_type": "code",
   "execution_count": 79,
   "id": "f191d5de-9d4a-4420-a8fe-0baa56deb444",
   "metadata": {},
   "outputs": [
    {
     "name": "stdout",
     "output_type": "stream",
     "text": [
      "Python is awesome\n",
      "Python is awesome\n",
      "Python is awesome\n",
      "15\n",
      "5 John\n"
     ]
    }
   ],
   "source": [
    "\n",
    "#Python - Output Variables\n",
    "x = \"Python is awesome\"\n",
    "print(x)\n",
    "\n",
    "x = \"Python\"\n",
    "y = \"is\"\n",
    "z = \"awesome\"\n",
    "print(x, y, z)\n",
    "\n",
    "x = \"Python \"\n",
    "y = \"is \"\n",
    "z = \"awesome\"\n",
    "print(x + y + z)\n",
    "\n",
    "x = 5\n",
    "y = 10\n",
    "print(x + y)\n",
    "\n",
    "x = 5\n",
    "y = \"John\"\n",
    "print(x, y)"
   ]
  },
  {
   "cell_type": "code",
   "execution_count": 81,
   "id": "b49f19c5-5b20-401b-b05c-223d045376bb",
   "metadata": {},
   "outputs": [
    {
     "name": "stdout",
     "output_type": "stream",
     "text": [
      "Python is awesome\n",
      "Python is fantastic\n",
      "Python is awesome\n",
      "Python is fantastic\n",
      "Python is fantastic\n"
     ]
    }
   ],
   "source": [
    "\n",
    "#Python - Global Variables\n",
    "x = \"awesome\"\n",
    "\n",
    "def myfunc():\n",
    "  print(\"Python is \" + x)\n",
    "\n",
    "myfunc()\n",
    "\n",
    "\n",
    "\n",
    "x = \"awesome\"\n",
    "\n",
    "def myfunc():\n",
    "  x = \"fantastic\"\n",
    "  print(\"Python is \" + x)\n",
    "\n",
    "myfunc()\n",
    "\n",
    "print(\"Python is \" + x)\n",
    "\n",
    "\n",
    "\n",
    "def myfunc():\n",
    "  global x\n",
    "  x = \"fantastic\"\n",
    "\n",
    "myfunc()\n",
    "\n",
    "print(\"Python is \" + x)\n",
    "\n",
    "\n",
    "\n",
    "\n",
    "x = \"awesome\"\n",
    "\n",
    "def myfunc():\n",
    "  global x\n",
    "  x = \"fantastic\"\n",
    "\n",
    "myfunc()\n",
    "\n",
    "print(\"Python is \" + x)"
   ]
  },
  {
   "cell_type": "code",
   "execution_count": 83,
   "id": "05b3c12c-478f-49cc-9cc0-3156dbe29247",
   "metadata": {},
   "outputs": [],
   "source": [
    "\n",
    "#Python - Variable Exercises"
   ]
  },
  {
   "cell_type": "markdown",
   "id": "bc4ce500-3b09-47b8-82a8-935d93f1148d",
   "metadata": {},
   "source": [
    "Python Data Types"
   ]
  },
  {
   "cell_type": "code",
   "execution_count": 90,
   "id": "beab5ab5-0d68-493d-95bf-4a6c013f50f1",
   "metadata": {},
   "outputs": [
    {
     "name": "stdout",
     "output_type": "stream",
     "text": [
      "<class 'int'>\n"
     ]
    }
   ],
   "source": [
    "x = 5\n",
    "print(type(x))\n",
    "\n",
    "#x = \"Hello World\"\tstr\t\n",
    "#x = 20\tint\t\n",
    "#x = 20.5 float\n",
    "#x = 1j\tcomplex\t\n",
    "#x = [\"apple\", \"banana\", \"cherry\"]\tlist\t\n",
    "#x = (\"apple\", \"banana\", \"cherry\")\ttuple\t\n",
    "#x = range(6)\trange\t\n",
    "#x = {\"name\" : \"John\", \"age\" : 36}\tdict\t\n",
    "#x = {\"apple\", \"banana\", \"cherry\"}\tset\t\n",
    "#x = frozenset({\"apple\", \"banana\", \"cherry\"})\tfrozenset\t\n",
    "#x = True\tbool\t\n",
    "#x = b\"Hello\"\tbytes\t\n",
    "#x = bytearray(5)\tbytearray\t\n",
    "#x = memoryview(bytes(5))\tmemoryview\t\n",
    "#x = None\tNoneType\n",
    "\n",
    "\n",
    "#x = str(\"Hello World\")\tstr\t\n",
    "#x = int(20)\tint\t\n",
    "#x = float(20.5)\tfloat\t\n",
    "#x = complex(1j)\tcomplex\t\n",
    "#x = list((\"apple\", \"banana\", \"cherry\"))\tlist\t\n",
    "#x = tuple((\"apple\", \"banana\", \"cherry\"))\ttuple\t\n",
    "#x = range(6)\trange\t\n",
    "#x = dict(name=\"John\", age=36)\tdict\t\n",
    "#x = set((\"apple\", \"banana\", \"cherry\"))\tset\t\n",
    "#x = frozenset((\"apple\", \"banana\", \"cherry\"))\tfrozenset\t\n",
    "#x = bool(5)\tbool\t\n",
    "#x = bytes(5)\tbytes\t\n",
    "#x = bytearray(5)\tbytearray\t\n",
    "#x = memoryview(bytes(5))\tmemoryview"
   ]
  },
  {
   "cell_type": "markdown",
   "id": "63af6d7d-4948-442c-8d41-bf4d7fe15a4a",
   "metadata": {},
   "source": [
    "Python Numbers"
   ]
  },
  {
   "cell_type": "code",
   "execution_count": 93,
   "id": "3b4445a2-3010-45e3-bcb9-5e5872dfdbbe",
   "metadata": {},
   "outputs": [
    {
     "name": "stdout",
     "output_type": "stream",
     "text": [
      "<class 'int'>\n",
      "<class 'float'>\n",
      "<class 'complex'>\n",
      "<class 'int'>\n",
      "<class 'int'>\n",
      "<class 'int'>\n",
      "<class 'float'>\n",
      "<class 'float'>\n",
      "<class 'float'>\n",
      "<class 'float'>\n",
      "<class 'float'>\n",
      "<class 'float'>\n",
      "<class 'complex'>\n",
      "<class 'complex'>\n",
      "<class 'complex'>\n"
     ]
    }
   ],
   "source": [
    "x = 1    # int\n",
    "y = 2.8  # float\n",
    "z = 1j   # complex\n",
    "\n",
    "print(type(x))\n",
    "print(type(y))\n",
    "print(type(z))\n",
    "\n",
    "#Integers:\n",
    "\n",
    "x = 1\n",
    "y = 35656222554887711\n",
    "z = -3255522\n",
    "\n",
    "print(type(x))\n",
    "print(type(y))\n",
    "print(type(z))\n",
    "\n",
    "#Floats:\n",
    "\n",
    "x = 1.10\n",
    "y = 1.0\n",
    "z = -35.59\n",
    "\n",
    "print(type(x))\n",
    "print(type(y))\n",
    "print(type(z))\n",
    "\n",
    "x = 35e3\n",
    "y = 12E4\n",
    "z = -87.7e100\n",
    "\n",
    "print(type(x))\n",
    "print(type(y))\n",
    "print(type(z))\n",
    "\n",
    "#Complex:\n",
    "\n",
    "x = 3+5j\n",
    "y = 5j\n",
    "z = -5j\n",
    "\n",
    "print(type(x))\n",
    "print(type(y))\n",
    "print(type(z))"
   ]
  },
  {
   "cell_type": "code",
   "execution_count": 95,
   "id": "2530408b-bdfc-4e76-a65d-5e45a6844d7b",
   "metadata": {},
   "outputs": [
    {
     "name": "stdout",
     "output_type": "stream",
     "text": [
      "1.0\n",
      "2\n",
      "(1+0j)\n",
      "<class 'float'>\n",
      "<class 'int'>\n",
      "<class 'complex'>\n",
      "1\n"
     ]
    }
   ],
   "source": [
    "\n",
    "#type conversion\n",
    "\n",
    "x = 1    # int\n",
    "y = 2.8  # float\n",
    "z = 1j   # complex\n",
    "\n",
    "#convert from int to float:\n",
    "a = float(x)\n",
    "\n",
    "#convert from float to int:\n",
    "b = int(y)\n",
    "\n",
    "#convert from int to complex:\n",
    "c = complex(x)\n",
    "\n",
    "print(a)\n",
    "print(b)\n",
    "print(c)\n",
    "\n",
    "print(type(a))\n",
    "print(type(b))\n",
    "print(type(c))\n",
    "\n",
    "#Random Number\n",
    "import random\n",
    "\n",
    "print(random.randrange(1, 10))"
   ]
  },
  {
   "cell_type": "markdown",
   "id": "0f67911e-876e-4677-897f-474d76d80170",
   "metadata": {},
   "source": [
    "Python Casting"
   ]
  },
  {
   "cell_type": "code",
   "execution_count": 100,
   "id": "11a258e7-0a07-41f0-9fec-8fbbe61e0890",
   "metadata": {},
   "outputs": [],
   "source": [
    "x = int(1)   # x will be 1\n",
    "y = int(2.8) # y will be 2\n",
    "z = int(\"3\") # z will be 3\n",
    "\n",
    "x = float(1)     # x will be 1.0\n",
    "y = float(2.8)   # y will be 2.8\n",
    "z = float(\"3\")   # z will be 3.0\n",
    "w = float(\"4.2\") # w will be 4.2\n",
    "\n",
    "x = str(\"s1\") # x will be 's1'\n",
    "y = str(2)    # y will be '2'\n",
    "z = str(3.0)  # z will be '3.0'\n"
   ]
  },
  {
   "cell_type": "markdown",
   "id": "07acc400-b877-457a-8be9-5a232c058b05",
   "metadata": {},
   "source": [
    "Python Strings"
   ]
  },
  {
   "cell_type": "code",
   "execution_count": 105,
   "id": "ac877d21-88b5-4465-937c-96e97b8291f5",
   "metadata": {},
   "outputs": [
    {
     "name": "stdout",
     "output_type": "stream",
     "text": [
      "Hello\n",
      "Hello\n",
      "It's alright\n",
      "He is called 'Johnny'\n",
      "He is called \"Johnny\"\n",
      "Hello\n",
      "Lorem ipsum dolor sit amet,\n",
      "consectetur adipiscing elit,\n",
      "sed do eiusmod tempor incididunt\n",
      "ut labore et dolore magna aliqua.\n",
      "Lorem ipsum dolor sit amet,\n",
      "consectetur adipiscing elit,\n",
      "sed do eiusmod tempor incididunt\n",
      "ut labore et dolore magna aliqua.\n",
      "e\n",
      "b\n",
      "a\n",
      "n\n",
      "a\n",
      "n\n",
      "a\n",
      "13\n",
      "True\n",
      "Yes, 'free' is present.\n",
      "True\n",
      "No, 'expensive' is NOT present.\n"
     ]
    }
   ],
   "source": [
    "\n",
    "#Python Strings\n",
    "\n",
    "print(\"Hello\")\n",
    "print('Hello')\n",
    "\n",
    "print(\"It's alright\")\n",
    "print(\"He is called 'Johnny'\")\n",
    "print('He is called \"Johnny\"')\n",
    "\n",
    "a = \"Hello\"\n",
    "print(a)\n",
    "\n",
    "a = \"\"\"Lorem ipsum dolor sit amet,\n",
    "consectetur adipiscing elit,\n",
    "sed do eiusmod tempor incididunt\n",
    "ut labore et dolore magna aliqua.\"\"\"\n",
    "print(a)\n",
    "\n",
    "a = '''Lorem ipsum dolor sit amet,\n",
    "consectetur adipiscing elit,\n",
    "sed do eiusmod tempor incididunt\n",
    "ut labore et dolore magna aliqua.'''\n",
    "print(a)\n",
    "\n",
    "\n",
    "a = \"Hello, World!\"\n",
    "print(a[1])\n",
    "\n",
    "for x in \"banana\":\n",
    "  print(x)\n",
    "\n",
    "a = \"Hello, World!\"\n",
    "print(len(a))\n",
    "\n",
    "txt = \"The best things in life are free!\"\n",
    "print(\"free\" in txt)\n",
    "\n",
    "txt = \"The best things in life are free!\"\n",
    "if \"free\" in txt:\n",
    "  print(\"Yes, 'free' is present.\")\n",
    "\n",
    "txt = \"The best things in life are free!\"\n",
    "print(\"expensive\" not in txt)\n",
    "\n",
    "\n",
    "txt = \"The best things in life are free!\"\n",
    "if \"expensive\" not in txt:\n",
    "  print(\"No, 'expensive' is NOT present.\")"
   ]
  },
  {
   "cell_type": "code",
   "execution_count": 107,
   "id": "5715c213-7143-4e9c-9049-2bea05c4b842",
   "metadata": {},
   "outputs": [
    {
     "name": "stdout",
     "output_type": "stream",
     "text": [
      "llo\n",
      "Hello\n",
      "llo, World!\n",
      "orl\n"
     ]
    }
   ],
   "source": [
    "\n",
    "#Python - Slicing Strings\n",
    "b = \"Hello, World!\"\n",
    "print(b[2:5])\n",
    "\n",
    "b = \"Hello, World!\"\n",
    "print(b[:5])\n",
    "\n",
    "b = \"Hello, World!\"\n",
    "print(b[2:])\n",
    "\n",
    "b = \"Hello, World!\"\n",
    "print(b[-5:-2])\n"
   ]
  },
  {
   "cell_type": "code",
   "execution_count": 109,
   "id": "1f3c8c06-9a82-4c76-b697-b0b84d438b31",
   "metadata": {},
   "outputs": [
    {
     "name": "stdout",
     "output_type": "stream",
     "text": [
      "HELLO, WORLD!\n",
      "hello, world!\n",
      "Hello, World!\n",
      "Jello, World!\n",
      "['Hello', ' World!']\n"
     ]
    }
   ],
   "source": [
    "\n",
    "#Python - Modify Strings\n",
    "a = \"Hello, World!\"\n",
    "print(a.upper())\n",
    "\n",
    "a = \"Hello, World!\"\n",
    "print(a.lower())\n",
    "\n",
    "a = \" Hello, World! \"\n",
    "print(a.strip()) # returns \"Hello, World!\"\n",
    "\n",
    "a = \"Hello, World!\"\n",
    "print(a.replace(\"H\", \"J\"))\n",
    "\n",
    "a = \"Hello, World!\"\n",
    "print(a.split(\",\")) # returns ['Hello', ' World!']"
   ]
  },
  {
   "cell_type": "code",
   "execution_count": 111,
   "id": "637c79a7-c500-4647-a12a-b1a62b263e38",
   "metadata": {},
   "outputs": [
    {
     "name": "stdout",
     "output_type": "stream",
     "text": [
      "HelloWorld\n",
      "Hello World\n"
     ]
    }
   ],
   "source": [
    "\n",
    "#Python - String Concatenation\n",
    "a = \"Hello\"\n",
    "b = \"World\"\n",
    "c = a + b\n",
    "print(c)\n",
    "\n",
    "a = \"Hello\"\n",
    "b = \"World\"\n",
    "c = a + \" \" + b\n",
    "print(c)"
   ]
  },
  {
   "cell_type": "code",
   "execution_count": 113,
   "id": "ee906d67-2e98-484a-b1c8-a92a4bfd3959",
   "metadata": {},
   "outputs": [
    {
     "name": "stdout",
     "output_type": "stream",
     "text": [
      "My name is John, I am 36\n",
      "The price is 59 dollars\n",
      "The price is 59.00 dollars\n",
      "The price is 1180 dollars\n"
     ]
    }
   ],
   "source": [
    "\n",
    "#Python - Format - Strings\n",
    "age = 36\n",
    "txt = f\"My name is John, I am {age}\"\n",
    "print(txt)\n",
    "\n",
    "price = 59\n",
    "txt = f\"The price is {price} dollars\"\n",
    "print(txt)\n",
    "\n",
    "price = 59\n",
    "txt = f\"The price is {price:.2f} dollars\"\n",
    "print(txt)\n",
    "\n",
    "txt = f\"The price is {20 * 59} dollars\"\n",
    "print(txt)"
   ]
  },
  {
   "cell_type": "code",
   "execution_count": 115,
   "id": "e2a0e0ce-686b-43ca-82e2-8c3bbe7c6ee4",
   "metadata": {},
   "outputs": [],
   "source": [
    "\n",
    "#Python - Escape Characters\n",
    "txt = \"We are the so-called \\\"Vikings\\\" from the north.\""
   ]
  },
  {
   "cell_type": "code",
   "execution_count": 119,
   "id": "02fa3084-1d17-4121-b4a5-e270955c137b",
   "metadata": {},
   "outputs": [],
   "source": [
    "\n",
    "#Python - String Methods\n",
    "#that was empty"
   ]
  },
  {
   "cell_type": "code",
   "execution_count": null,
   "id": "dc2bb9de-907f-48e0-9af7-81463c64e9a4",
   "metadata": {},
   "outputs": [],
   "source": [
    "\n",
    "#Python - String Exercises\n",
    "# I have done all of them"
   ]
  }
 ],
 "metadata": {
  "kernelspec": {
   "display_name": "Python [conda env:base] *",
   "language": "python",
   "name": "conda-base-py"
  },
  "language_info": {
   "codemirror_mode": {
    "name": "ipython",
    "version": 3
   },
   "file_extension": ".py",
   "mimetype": "text/x-python",
   "name": "python",
   "nbconvert_exporter": "python",
   "pygments_lexer": "ipython3",
   "version": "3.12.7"
  }
 },
 "nbformat": 4,
 "nbformat_minor": 5
}
